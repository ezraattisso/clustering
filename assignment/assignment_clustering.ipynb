{
  "cells": [
    {
      "cell_type": "markdown",
      "id": "cfc23963-2cc5-4f1d-8278-fb1b2026afc5",
      "metadata": {
        "id": "cfc23963-2cc5-4f1d-8278-fb1b2026afc5"
      },
      "source": [
        "## Assignment: $k$ Means Clustering\n",
        "\n",
        "### `! git clone https://www.github.com/ds4e/clustering`\n",
        "\n",
        "### **Do Q1 and one other question.**"
      ]
    },
    {
      "cell_type": "markdown",
      "id": "26523935-9e8f-4377-920c-6f65605c0e31",
      "metadata": {
        "id": "26523935-9e8f-4377-920c-6f65605c0e31"
      },
      "source": [
        "**Q1.** This is a question about clustering. We want to investigate how adjusting the \"noisiness\" of the data impacts the quality of the algorithm and the difficulty of picking $k$.\n",
        "\n",
        "1. Run the code below, which creates four datasets: `df0_125`, `df0_25`, `df0_5`, `df1_0`, and `df2_0`. Each data set is created by increasing the amount of `noise` (standard deviation) around the cluster centers, from `0.125` to `0.25` to `0.5` to `1.0` to `2.0`.\n",
        "\n",
        "```\n",
        "import numpy as np\n",
        "import pandas as pd\n",
        "\n",
        "def createData(noise,N=50):\n",
        "    np.random.seed(100) # Set the seed for replicability\n",
        "    # Generate (x1,x2,g) triples:\n",
        "    X1 = np.array([np.random.normal(1,noise,N),np.random.normal(1,noise,N)])\n",
        "    X2 = np.array([np.random.normal(3,noise,N),np.random.normal(2,noise,N)])\n",
        "    X3 = np.array([np.random.normal(5,noise,N),np.random.normal(3,noise,N)])\n",
        "    # Concatenate into one data frame\n",
        "    gdf1 = pd.DataFrame({'x1':X1[0,:],'x2':X1[1,:],'group':'a'})\n",
        "    gdf2 = pd.DataFrame({'x1':X2[0,:],'x2':X2[1,:],'group':'b'})\n",
        "    gdf3 = pd.DataFrame({'x1':X3[0,:],'x2':X3[1,:],'group':'c'})\n",
        "    df = pd.concat([gdf1,gdf2,gdf3],axis=0)\n",
        "    return df\n",
        "\n",
        "df0_125 = createData(0.125)\n",
        "df0_25 = createData(0.25)\n",
        "df0_5 = createData(0.5)\n",
        "df1_0 = createData(1.0)\n",
        "df2_0 = createData(2.0)\n",
        "```\n",
        "\n",
        "2. Make scatterplots of the $(X1,X2)$ points by group for each of the datasets. As the `noise` goes up from 0.125 to 2.0, what happens to the visual distinctness of the clusters?\n",
        "3. Create a scree plot for each of the datasets. Describe how the level of `noise` affects the scree plot (particularly the presence of a clear \"elbow\") and your ability to definitively select a $k$. (Pay attention to the vertical axis across plots, or put all the scree curves on a single canvas.)\n",
        "4. Explain the intuition of the elbow, using this numerical simulation as an example."
      ]
    },
    {
      "cell_type": "code",
      "source": [
        "## Q1.1\n",
        "\n",
        "import numpy as np\n",
        "import pandas as pd\n",
        "\n",
        "def createData(noise,N=50):\n",
        "    np.random.seed(100) # Set the seed for replicability\n",
        "    # Generate (x1,x2,g) triples:\n",
        "    X1 = np.array([np.random.normal(1,noise,N),np.random.normal(1,noise,N)])\n",
        "    X2 = np.array([np.random.normal(3,noise,N),np.random.normal(2,noise,N)])\n",
        "    X3 = np.array([np.random.normal(5,noise,N),np.random.normal(3,noise,N)])\n",
        "    # Concatenate into one data frame\n",
        "    gdf1 = pd.DataFrame({'x1':X1[0,:],'x2':X1[1,:],'group':'a'})\n",
        "    gdf2 = pd.DataFrame({'x1':X2[0,:],'x2':X2[1,:],'group':'b'})\n",
        "    gdf3 = pd.DataFrame({'x1':X3[0,:],'x2':X3[1,:],'group':'c'})\n",
        "    df = pd.concat([gdf1,gdf2,gdf3],axis=0)\n",
        "    return df\n",
        "\n",
        "df0_125 = createData(0.125)\n",
        "df0_25 = createData(0.25)\n",
        "df0_5 = createData(0.5)\n",
        "df1_0 = createData(1.0)\n",
        "df2_0 = createData(2.0)"
      ],
      "metadata": {
        "id": "utfaw2XgQsHe"
      },
      "id": "utfaw2XgQsHe",
      "execution_count": 1,
      "outputs": []
    },
    {
      "cell_type": "code",
      "source": [
        "## Q1.2\n",
        "\n",
        "import seaborn as sns\n",
        "\n",
        "sns.scatterplot(data=df0_125, x='x1', y='x2', hue='group')\n",
        "\n",
        "sns.scatterplot(data=df0_25, x='x1', y='x2', hue='group')\n",
        "\n",
        "sns.scatterplot(data=df0_5, x='x1', y='x2', hue='group')\n",
        "\n",
        "sns.scatterplot(data=df1_0, x='x1', y='x2', hue='group')\n",
        "\n",
        "sns.scatterplot(data=df2_0, x='x1', y='x2', hue='group')\n"
      ],
      "metadata": {
        "id": "q-6jD7L9Q3Wc"
      },
      "id": "q-6jD7L9Q3Wc",
      "execution_count": null,
      "outputs": []
    },
    {
      "cell_type": "code",
      "source": [
        "## Q1.3\n",
        "\n",
        "from sklearn.cluster import KMeans # Import kmc\n",
        "from sklearn.preprocessing import MinMaxScaler # Import minmax scaler\n",
        "scaler = MinMaxScaler() # Create scaler object\n",
        "\n",
        "scaler.fit(df0_125[['x1','x2']]) # Fit the scaler to the data\n",
        "scaler.transform(df0_125[['x1','x2']]) # Transform the data\n",
        "\n",
        "scaler.fit(df0_25[['x1','x2']])\n",
        "scaler.transform(df0_25[['x1','x2']])\n",
        "\n",
        "scaler.fit(df0_5[['x1','x2']])\n",
        "scaler.transform(df0_5[['x1','x2']])\n",
        "\n",
        "scaler.fit(df1_0[['x1','x2']])\n",
        "scaler.transform(df1_0[['x1','x2']])\n",
        "\n",
        "scaler.fit(df2_0[['x1','x2']])\n",
        "scaler.transform(df2_0[['x1','x2']])\n",
        "\n",
        "df0_125[['x1','x2']] = scaler.fit_transform(df0_125[['x1','x2']]) # Normalizing the data\n",
        "df0_25[['x1','x2']] = scaler.fit_transform(df0_25[['x1','x2']])\n",
        "df0_5[['x1','x2']] = scaler.fit_transform(df0_5[['x1','x2']])\n",
        "df1_0[['x1','x2']] = scaler.fit_transform(df1_0[['x1','x2']])\n",
        "df2_0[['x1','x2']] = scaler.fit_transform(df2_0[['x1','x2']])\n",
        "\n",
        "# for df0.125\n",
        "X = df0_125[['x1','x2']] # Extract the features\n",
        "k_bar = 10\n",
        "SSE = [] # We'll store the training error here\n",
        "for k in range(k_bar): # For indices from 0 to k_bar-1\n",
        "    model = KMeans(n_clusters=k+1, max_iter=300, n_init = 10, random_state=0) # Create a model for k\n",
        "    model = model.fit(X) # Fit the model\n",
        "    SSE.append(model.inertia_) # Record the sum of squared error for k in the SSE vector\n",
        "\n",
        "scree_plot = sns.lineplot(x=np.arange(1,k_bar+1), y=SSE).set_title('Scree Plot') # Create scree plot\n",
        "\n",
        "# for df0.25\n",
        "X = df0_25[['x1','x2']]\n",
        "k_bar = 10\n",
        "SSE = []\n",
        "for k in range(k_bar):\n",
        "    model = KMeans(n_clusters=k+1, max_iter=300, n_init = 10, random_state=0)\n",
        "    model = model.fit(X)\n",
        "    SSE.append(model.inertia_)\n",
        "\n",
        "scree_plot = sns.lineplot(x=np.arange(1,k_bar+1), y=SSE).set_title('Scree Plot')\n",
        "\n",
        "# for df0.5\n",
        "X = df0_5[['x1','x2']]\n",
        "k_bar = 10\n",
        "SSE = []\n",
        "for k in range(k_bar):\n",
        "    model = KMeans(n_clusters=k+1, max_iter=300, n_init = 10, random_state=0)\n",
        "    model = model.fit(X)\n",
        "    SSE.append(model.inertia_)\n",
        "\n",
        "scree_plot = sns.lineplot(x=np.arange(1,k_bar+1), y=SSE).set_title('Scree Plot')\n",
        "\n",
        "# for df1\n",
        "X = df1_0[['x1','x2']]\n",
        "k_bar = 10\n",
        "SSE = []\n",
        "for k in range(k_bar):\n",
        "    model = KMeans(n_clusters=k+1, max_iter=300, n_init = 10, random_state=0)\n",
        "    model = model.fit(X)\n",
        "    SSE.append(model.inertia_)\n",
        "\n",
        "scree_plot = sns.lineplot(x=np.arange(1,k_bar+1), y=SSE).set_title('Scree Plot')\n",
        "\n",
        "# for df2\n",
        "X = df2_0[['x1','x2']]\n",
        "k_bar = 10\n",
        "SSE = []\n",
        "for k in range(k_bar):\n",
        "    model = KMeans(n_clusters=k+1, max_iter=300, n_init = 10, random_state=0)\n",
        "    model = model.fit(X)\n",
        "    SSE.append(model.inertia_)\n",
        "\n",
        "scree_plot = sns.lineplot(x=np.arange(1,k_bar+1), y=SSE).set_title('Scree Plot')\n",
        "\n",
        "# The scree plots begin to flatten out with more noise...\n"
      ],
      "metadata": {
        "id": "gyEQMmseRR0M",
        "outputId": "c82c7346-34cc-4e9f-d4b5-07e96a1eeb79",
        "colab": {
          "base_uri": "https://localhost:8080/",
          "height": 452
        }
      },
      "id": "gyEQMmseRR0M",
      "execution_count": 6,
      "outputs": [
        {
          "output_type": "display_data",
          "data": {
            "text/plain": [
              "<Figure size 640x480 with 1 Axes>"
            ],
            "image/png": "[encoded data removed]"
          },
          "metadata": {}
        }
      ]
    },
    {
      "cell_type": "markdown",
      "source": [
        "**Q1.4**\n",
        "\n",
        "The elbow shows where the variance stops dropping off drastically. After the df of 0.5, the drop off in variance seems to be more minimal. This implies that somewhere between 0.5 and 1 is the threshold for really varied data."
      ],
      "metadata": {
        "id": "zOSniEJ2Vd5Y"
      },
      "id": "zOSniEJ2Vd5Y"
    },
    {
      "cell_type": "markdown",
      "id": "8013bcba",
      "metadata": {
        "id": "8013bcba"
      },
      "source": [
        "**Q2.** This question is a case study on clustering.\n",
        "\n",
        "1. Load the `2022 election cycle fundraising.csv` file in the `./data` folder. This has campaign finance data for the 2022 election for House and Senate candidates. We're going to focus on the total amount they raised, `Raised`, the total amount they spent, `Spent`, their available `Cash on Hand`, and their `Debts`. The variables denominated in dollars are messy and require cleaning. How do you handle it?\n",
        "2. Max-min normalize `Raised` and `Spent`. Use a scree plot to determine the optimal number of clusters for the $k$ means clustering algorithm. Make a scatter plot of `Raised` against `Spent` and hue the dots by their cluster membership. What do you see? Which politicians comprise the smallest two clusters? If necessary, look up some of these races to see how close they were.\n",
        "3. Repeat part 2, but for `Cash on Hand` and `Debts`. Compare your results with part 2. Why might this be? If necessary, look up some of these races to see how close they were.\n",
        "4. Use $k$ means clustering with all four numeric variables. How do your results compare to the previous two parts?\n",
        "5. Did the $k$-MC algorithm find useful patterns for you in analyzing the election?"
      ]
    },
    {
      "cell_type": "markdown",
      "id": "cfc78796",
      "metadata": {
        "id": "cfc78796"
      },
      "source": [
        "**Q3.** This question is a case study on clustering.\n",
        "\n",
        "1. Load the `SIPRI Military Expenditure Database.csv` file in the `./data` folder. This has data about military spending by country. Filter the rows to select only the year 2020, and drop all rows with missing values. I ended up with 148 countries. Is any further cleaning of the variables required?\n",
        "2. Max-min normalize `Spending (2020 USD)` and `Spending per Capita`. Use a scree plot to determine the optimal number of clusters for the $k$ means clustering algorithm. Make a scatter plot of `Spending (2020 USD)` and `Spending per Capita`, and hue the dots by their cluster membership. Compute a describe table conditional on cluster membership (i.e. `.groupby(cluster).describe()`). What do you see? Where is the United States? Do you notice any patterns in the cluster membership?\n",
        "3. Repeat part 2 for `Percent of Government Spending` and `Percent of GDP`. How do your results compare to part 2?\n",
        "4. Use $k$ means clustering with all four numeric variables: `Spending (2020 USD)`, `Spending per Capita`, `Percent of Government Spending`, and `Percent of GDP`. How do your results compare to the previous two parts?\n",
        "5. Did the $k$-MC algorithm find any useful patterns for you in analyzing the election?"
      ]
    },
    {
      "cell_type": "markdown",
      "id": "85dae156-b49b-4f43-bc42-ad1589132891",
      "metadata": {
        "id": "85dae156-b49b-4f43-bc42-ad1589132891"
      },
      "source": [
        "**Q4.** This question is a case study for $k$ means clustering.\n",
        "\n",
        "1. Load the `airbnb_hw.csv` data. Clean `Price` along with `Beds`, `Number of Reviews`, and `Review Scores Rating`.\n",
        "2. Maxmin normalize the data and remove any `nan`'s (`KMeans` from `sklearn` doesn't accept `nan` input).\n",
        "3. Use `sklearn`'s `KMeans` module to cluster the data by `Beds`, `Number of Reviews`, and `Review Scores Rating` for `k=6`.\n",
        "4. Use `seaborn`'s `.pairplot()` to make a grid of scatterplots that show how the clustering is carried out in multiple dimensions.\n",
        "5. Use `.groupby` and `.describe` to compute the average price for each cluster. Which clusters have the highest rental prices?\n",
        "6. Use a scree plot to pick the number of clusters and repeat steps 4 and 5."
      ]
    },
    {
      "cell_type": "code",
      "source": [
        "## Q4.1\n",
        "\n",
        "import pandas as pd\n",
        "import numpy as np\n",
        "import matplotlib.pyplot as plt\n",
        "import seaborn as sns\n",
        "url = \"https://raw.githubusercontent.com/ezraattisso/ds3001-EDA/refs/heads/main/assignment/data/airbnb_hw.csv\"\n",
        "bnb_df = pd.read_csv(url,low_memory=False)\n",
        "\n",
        "\n",
        "bnb_df['Price'] = bnb_df['Price'].str.replace('$', '').str.replace(',', '').astype(float)\n",
        "\n",
        "bnb_df['Beds'] = bnb_df['Beds'].fillna(0)\n",
        "bnb_df['Beds'] = bnb_df['Beds'].replace([np.inf, -np.inf], 0)\n",
        "bnb_df['Beds'] = bnb_df['Beds'] = bnb_df['Beds'].astype(int)\n",
        "\n",
        "bnb_df['Number of Reviews'] = bnb_df['Number Of Reviews'].fillna(0)\n",
        "bnb_df['Number of Reviews'] = bnb_df['Number Of Reviews'].replace([np.inf, -np.inf], 0)\n",
        "bnb_df['Number of Reviews'] = bnb_df['Number Of Reviews'].astype(int)\n",
        "\n",
        "bnb_df['Review Scores Rating'] = bnb_df['Review Scores Rating (bin)'].fillna(0)\n",
        "bnb_df['Review Scores Rating'] = bnb_df['Review Scores Rating'].replace([np.inf, -np.inf], 0)\n",
        "bnb_df['Review Scores Rating'] = bnb_df['Review Scores Rating'].astype(int)\n",
        "\n",
        "\n",
        "bnb_df.head()"
      ],
      "metadata": {
        "id": "kjjCSC8KWUe2"
      },
      "id": "kjjCSC8KWUe2",
      "execution_count": null,
      "outputs": []
    },
    {
      "cell_type": "code",
      "source": [
        "## Q4.2\n",
        "\n",
        "from sklearn.preprocessing import MinMaxScaler\n",
        "\n",
        "scaler = MinMaxScaler()\n",
        "\n",
        "bnb_df[['Price', 'Beds', 'Number of Reviews', 'Review Scores Rating']] = scaler.fit_transform(bnb_df[['Price', 'Beds', 'Number of Reviews', 'Review Scores Rating']])\n",
        "\n",
        "\n",
        "bnb_df.dropna(inplace=True)\n",
        "\n",
        "bnb_df.head()"
      ],
      "metadata": {
        "id": "z3ra6J38ZUqS"
      },
      "id": "z3ra6J38ZUqS",
      "execution_count": null,
      "outputs": []
    },
    {
      "cell_type": "code",
      "source": [
        "## Q4.3\n",
        "\n",
        "from sklearn.cluster import KMeans\n",
        "\n",
        "kmeans = KMeans(n_clusters=6, random_state=0)\n",
        "\n",
        "kmeans.fit(bnb_df[['Price', 'Beds', 'Number of Reviews', 'Review Scores Rating']])\n",
        "\n",
        "bnb_df['Cluster'] = kmeans.labels_"
      ],
      "metadata": {
        "id": "XO3CmMlXZfXr"
      },
      "id": "XO3CmMlXZfXr",
      "execution_count": 37,
      "outputs": []
    },
    {
      "cell_type": "code",
      "source": [
        "## Q4.4\n",
        "\n",
        "sns.pairplot(bnb_df, hue='Cluster')"
      ],
      "metadata": {
        "id": "zvVOw3dMZkj-"
      },
      "id": "zvVOw3dMZkj-",
      "execution_count": null,
      "outputs": []
    },
    {
      "cell_type": "code",
      "source": [
        "## Q4.5\n",
        "\n",
        "bnb_df.groupby('Cluster')['Price'].describe()\n",
        "\n",
        "# Clusters 0 & 4 have the highest rental prices.\n"
      ],
      "metadata": {
        "id": "RBIs3zXaZvbi"
      },
      "id": "RBIs3zXaZvbi",
      "execution_count": null,
      "outputs": []
    },
    {
      "cell_type": "code",
      "source": [
        "## Q4.6\n",
        "\n",
        "SSE = []\n",
        "k_range = range(1, 11)\n",
        "for k in k_range:\n",
        "    kmeans = KMeans(n_clusters=k, random_state=0)\n",
        "    kmeans.fit(bnb_df[['Price', 'Beds', 'Number of Reviews', 'Review Scores Rating']])\n",
        "    SSE.append(kmeans.inertia_)\n",
        "\n",
        "plt.plot(k_range, SSE)\n",
        "plt.xlabel('Number of Clusters')\n",
        "plt.ylabel('Sum of Squared Errors')\n",
        "plt.title('Scree Plot')\n",
        "plt.show()"
      ],
      "metadata": {
        "id": "S806Rd6uZ3Nv"
      },
      "id": "S806Rd6uZ3Nv",
      "execution_count": null,
      "outputs": []
    },
    {
      "cell_type": "markdown",
      "id": "870041b4-204b-4bc4-bf8a-3fe2f8734a58",
      "metadata": {
        "id": "870041b4-204b-4bc4-bf8a-3fe2f8734a58"
      },
      "source": [
        "**Q5.** We looked at computer vision with $k$NN in a previous question. Can $k$ means clustering correctly group digits, even if we don't know which symbols are which?\n",
        "\n",
        "1. To load the data, run the following code in a chunk:\n",
        "```\n",
        "from keras.datasets import mnist\n",
        "df = mnist.load_data('minst.db')\n",
        "train,test = df\n",
        "X_train, y_train = train\n",
        "X_test, y_test = test\n",
        "```\n",
        "The `y_test` and `y_train` vectors, for each index `i`, tell you want number is written in the corresponding index in `X_train[i]` and `X_test[i]`. The value of `X_train[i]` and `X_test[i]`, however, is a 28$\\times$28 array whose entries contain values between 0 and 256. Each element of the matrix is essentially a \"pixel\" and the matrix encodes a representation of a number. To visualize this, run the following code to see the first ten numbers:\n",
        "```\n",
        "import matplotlib.pyplot as plt\n",
        "import numpy as np\n",
        "np.set_printoptions(edgeitems=30, linewidth=100000)\n",
        "for i in range(5):\n",
        "    print(y_test[i],'\\n') # Print the label\n",
        "    print(X_test[i],'\\n') # Print the matrix of values\n",
        "    plt.contourf(np.rot90(X_test[i].transpose())) # Make a contour plot of the matrix values\n",
        "    plt.show()\n",
        "```\n",
        "OK, those are the data: Labels attached to handwritten digits encoded as a matrix.\n",
        "\n",
        "2. What is the shape of `X_train` and `X_test`? What is the shape of `X_train[i]` and `X_test[i]` for each index `i`? What is the shape of `y_train` and `y_test`?\n",
        "3. Use Numpy's `.reshape()` method to covert the training and testing data from a matrix into an vector of features. So, `X_test[index].reshape((1,784))` will convert the $index$-th element of `X_test` into a $28\\times 28=784$-length row vector of values, rather than a matrix. Turn `X_train` into an $N \\times 784$ matrix $X$ that is suitable for scikit-learn's kNN classifier where $N$ is the number of observations and $784=28*28$ (you could use, for example, a `for` loop).\n",
        "4. Use $k$ means clustering on the reshaped `X_test` data with `k=10`.  \n",
        "5. Cross tabulate the cluster assignments with the true labels for the test set values. How good is the correspondence? What proportion of digits are clustered correctly? Which digits are the hardest to distinguish from one another? Can $k$MC recover the latent digits 0 to 9, without even knowing what those digits were?\n",
        "6. If you use a scree plot to determine the number of clusters $k$, does it pick 10 (the true number of digits), or not? If it fails to pick $k=10$, which digits does it tend to combine into the same classification?"
      ]
    }
  ],
  "metadata": {
    "colab": {
      "provenance": []
    },
    "kernelspec": {
      "display_name": "Python 3 (ipykernel)",
      "language": "python",
      "name": "python3"
    },
    "language_info": {
      "codemirror_mode": {
        "name": "ipython",
        "version": 3
      },
      "file_extension": ".py",
      "mimetype": "text/x-python",
      "name": "python",
      "nbconvert_exporter": "python",
      "pygments_lexer": "ipython3",
      "version": "3.11.4"
    }
  },
  "nbformat": 4,
  "nbformat_minor": 5
}